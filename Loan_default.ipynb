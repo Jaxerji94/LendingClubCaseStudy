{
 "cells": [
  {
   "cell_type": "code",
   "execution_count": 442,
   "metadata": {},
   "outputs": [],
   "source": [
    "import os #change directory\n",
    "import pandas as pd #work on dataframe\n",
    "import numpy as np # Work on null values\n",
    "import matplotlib.pyplot as plt  #plot charts\n",
    "import seaborn as sns"
   ]
  },
  {
   "cell_type": "code",
   "execution_count": 443,
   "metadata": {},
   "outputs": [],
   "source": [
    "os.chdir('C:\\\\Users\\\\jaxer\\\\Downloads')  #Change directory"
   ]
  },
  {
   "cell_type": "code",
   "execution_count": 444,
   "metadata": {},
   "outputs": [
    {
     "name": "stderr",
     "output_type": "stream",
     "text": [
      "C:\\Python\\lib\\site-packages\\IPython\\core\\interactiveshell.py:3343: DtypeWarning: Columns (47) have mixed types.Specify dtype option on import or set low_memory=False.\n",
      "  exec(code_obj, self.user_global_ns, self.user_ns)\n"
     ]
    }
   ],
   "source": [
    "df= pd.read_csv('loan.csv') #import the dataset"
   ]
  },
  {
   "cell_type": "code",
   "execution_count": 445,
   "metadata": {},
   "outputs": [
    {
     "data": {
      "text/html": [
       "<div>\n",
       "<style scoped>\n",
       "    .dataframe tbody tr th:only-of-type {\n",
       "        vertical-align: middle;\n",
       "    }\n",
       "\n",
       "    .dataframe tbody tr th {\n",
       "        vertical-align: top;\n",
       "    }\n",
       "\n",
       "    .dataframe thead th {\n",
       "        text-align: right;\n",
       "    }\n",
       "</style>\n",
       "<table border=\"1\" class=\"dataframe\">\n",
       "  <thead>\n",
       "    <tr style=\"text-align: right;\">\n",
       "      <th></th>\n",
       "      <th>column_name</th>\n",
       "      <th>percent_missing</th>\n",
       "    </tr>\n",
       "  </thead>\n",
       "  <tbody>\n",
       "    <tr>\n",
       "      <th>id</th>\n",
       "      <td>id</td>\n",
       "      <td>0.000000</td>\n",
       "    </tr>\n",
       "    <tr>\n",
       "      <th>member_id</th>\n",
       "      <td>member_id</td>\n",
       "      <td>0.000000</td>\n",
       "    </tr>\n",
       "    <tr>\n",
       "      <th>loan_amnt</th>\n",
       "      <td>loan_amnt</td>\n",
       "      <td>0.000000</td>\n",
       "    </tr>\n",
       "    <tr>\n",
       "      <th>funded_amnt</th>\n",
       "      <td>funded_amnt</td>\n",
       "      <td>0.000000</td>\n",
       "    </tr>\n",
       "    <tr>\n",
       "      <th>funded_amnt_inv</th>\n",
       "      <td>funded_amnt_inv</td>\n",
       "      <td>0.000000</td>\n",
       "    </tr>\n",
       "    <tr>\n",
       "      <th>term</th>\n",
       "      <td>term</td>\n",
       "      <td>0.000000</td>\n",
       "    </tr>\n",
       "    <tr>\n",
       "      <th>int_rate</th>\n",
       "      <td>int_rate</td>\n",
       "      <td>0.000000</td>\n",
       "    </tr>\n",
       "    <tr>\n",
       "      <th>installment</th>\n",
       "      <td>installment</td>\n",
       "      <td>0.000000</td>\n",
       "    </tr>\n",
       "    <tr>\n",
       "      <th>grade</th>\n",
       "      <td>grade</td>\n",
       "      <td>0.000000</td>\n",
       "    </tr>\n",
       "    <tr>\n",
       "      <th>sub_grade</th>\n",
       "      <td>sub_grade</td>\n",
       "      <td>0.000000</td>\n",
       "    </tr>\n",
       "    <tr>\n",
       "      <th>emp_title</th>\n",
       "      <td>emp_title</td>\n",
       "      <td>6.191303</td>\n",
       "    </tr>\n",
       "    <tr>\n",
       "      <th>emp_length</th>\n",
       "      <td>emp_length</td>\n",
       "      <td>2.706650</td>\n",
       "    </tr>\n",
       "    <tr>\n",
       "      <th>home_ownership</th>\n",
       "      <td>home_ownership</td>\n",
       "      <td>0.000000</td>\n",
       "    </tr>\n",
       "    <tr>\n",
       "      <th>annual_inc</th>\n",
       "      <td>annual_inc</td>\n",
       "      <td>0.000000</td>\n",
       "    </tr>\n",
       "    <tr>\n",
       "      <th>verification_status</th>\n",
       "      <td>verification_status</td>\n",
       "      <td>0.000000</td>\n",
       "    </tr>\n",
       "    <tr>\n",
       "      <th>issue_d</th>\n",
       "      <td>issue_d</td>\n",
       "      <td>0.000000</td>\n",
       "    </tr>\n",
       "    <tr>\n",
       "      <th>loan_status</th>\n",
       "      <td>loan_status</td>\n",
       "      <td>0.000000</td>\n",
       "    </tr>\n",
       "    <tr>\n",
       "      <th>pymnt_plan</th>\n",
       "      <td>pymnt_plan</td>\n",
       "      <td>0.000000</td>\n",
       "    </tr>\n",
       "    <tr>\n",
       "      <th>url</th>\n",
       "      <td>url</td>\n",
       "      <td>0.000000</td>\n",
       "    </tr>\n",
       "    <tr>\n",
       "      <th>desc</th>\n",
       "      <td>desc</td>\n",
       "      <td>32.580507</td>\n",
       "    </tr>\n",
       "    <tr>\n",
       "      <th>purpose</th>\n",
       "      <td>purpose</td>\n",
       "      <td>0.000000</td>\n",
       "    </tr>\n",
       "    <tr>\n",
       "      <th>title</th>\n",
       "      <td>title</td>\n",
       "      <td>0.027696</td>\n",
       "    </tr>\n",
       "    <tr>\n",
       "      <th>zip_code</th>\n",
       "      <td>zip_code</td>\n",
       "      <td>0.000000</td>\n",
       "    </tr>\n",
       "    <tr>\n",
       "      <th>addr_state</th>\n",
       "      <td>addr_state</td>\n",
       "      <td>0.000000</td>\n",
       "    </tr>\n",
       "    <tr>\n",
       "      <th>dti</th>\n",
       "      <td>dti</td>\n",
       "      <td>0.000000</td>\n",
       "    </tr>\n",
       "    <tr>\n",
       "      <th>delinq_2yrs</th>\n",
       "      <td>delinq_2yrs</td>\n",
       "      <td>0.000000</td>\n",
       "    </tr>\n",
       "    <tr>\n",
       "      <th>earliest_cr_line</th>\n",
       "      <td>earliest_cr_line</td>\n",
       "      <td>0.000000</td>\n",
       "    </tr>\n",
       "    <tr>\n",
       "      <th>inq_last_6mths</th>\n",
       "      <td>inq_last_6mths</td>\n",
       "      <td>0.000000</td>\n",
       "    </tr>\n",
       "    <tr>\n",
       "      <th>mths_since_last_delinq</th>\n",
       "      <td>mths_since_last_delinq</td>\n",
       "      <td>64.662487</td>\n",
       "    </tr>\n",
       "    <tr>\n",
       "      <th>mths_since_last_record</th>\n",
       "      <td>mths_since_last_record</td>\n",
       "      <td>92.985372</td>\n",
       "    </tr>\n",
       "    <tr>\n",
       "      <th>open_acc</th>\n",
       "      <td>open_acc</td>\n",
       "      <td>0.000000</td>\n",
       "    </tr>\n",
       "    <tr>\n",
       "      <th>pub_rec</th>\n",
       "      <td>pub_rec</td>\n",
       "      <td>0.000000</td>\n",
       "    </tr>\n",
       "    <tr>\n",
       "      <th>revol_bal</th>\n",
       "      <td>revol_bal</td>\n",
       "      <td>0.000000</td>\n",
       "    </tr>\n",
       "    <tr>\n",
       "      <th>revol_util</th>\n",
       "      <td>revol_util</td>\n",
       "      <td>0.125891</td>\n",
       "    </tr>\n",
       "    <tr>\n",
       "      <th>total_acc</th>\n",
       "      <td>total_acc</td>\n",
       "      <td>0.000000</td>\n",
       "    </tr>\n",
       "    <tr>\n",
       "      <th>initial_list_status</th>\n",
       "      <td>initial_list_status</td>\n",
       "      <td>0.000000</td>\n",
       "    </tr>\n",
       "    <tr>\n",
       "      <th>out_prncp</th>\n",
       "      <td>out_prncp</td>\n",
       "      <td>0.000000</td>\n",
       "    </tr>\n",
       "    <tr>\n",
       "      <th>out_prncp_inv</th>\n",
       "      <td>out_prncp_inv</td>\n",
       "      <td>0.000000</td>\n",
       "    </tr>\n",
       "    <tr>\n",
       "      <th>total_pymnt</th>\n",
       "      <td>total_pymnt</td>\n",
       "      <td>0.000000</td>\n",
       "    </tr>\n",
       "    <tr>\n",
       "      <th>total_pymnt_inv</th>\n",
       "      <td>total_pymnt_inv</td>\n",
       "      <td>0.000000</td>\n",
       "    </tr>\n",
       "    <tr>\n",
       "      <th>total_rec_prncp</th>\n",
       "      <td>total_rec_prncp</td>\n",
       "      <td>0.000000</td>\n",
       "    </tr>\n",
       "    <tr>\n",
       "      <th>total_rec_int</th>\n",
       "      <td>total_rec_int</td>\n",
       "      <td>0.000000</td>\n",
       "    </tr>\n",
       "    <tr>\n",
       "      <th>total_rec_late_fee</th>\n",
       "      <td>total_rec_late_fee</td>\n",
       "      <td>0.000000</td>\n",
       "    </tr>\n",
       "    <tr>\n",
       "      <th>recoveries</th>\n",
       "      <td>recoveries</td>\n",
       "      <td>0.000000</td>\n",
       "    </tr>\n",
       "    <tr>\n",
       "      <th>collection_recovery_fee</th>\n",
       "      <td>collection_recovery_fee</td>\n",
       "      <td>0.000000</td>\n",
       "    </tr>\n",
       "    <tr>\n",
       "      <th>last_pymnt_d</th>\n",
       "      <td>last_pymnt_d</td>\n",
       "      <td>0.178765</td>\n",
       "    </tr>\n",
       "    <tr>\n",
       "      <th>last_pymnt_amnt</th>\n",
       "      <td>last_pymnt_amnt</td>\n",
       "      <td>0.000000</td>\n",
       "    </tr>\n",
       "    <tr>\n",
       "      <th>next_pymnt_d</th>\n",
       "      <td>next_pymnt_d</td>\n",
       "      <td>97.129693</td>\n",
       "    </tr>\n",
       "    <tr>\n",
       "      <th>last_credit_pull_d</th>\n",
       "      <td>last_credit_pull_d</td>\n",
       "      <td>0.005036</td>\n",
       "    </tr>\n",
       "    <tr>\n",
       "      <th>collections_12_mths_ex_med</th>\n",
       "      <td>collections_12_mths_ex_med</td>\n",
       "      <td>0.140998</td>\n",
       "    </tr>\n",
       "    <tr>\n",
       "      <th>mths_since_last_major_derog</th>\n",
       "      <td>mths_since_last_major_derog</td>\n",
       "      <td>100.000000</td>\n",
       "    </tr>\n",
       "    <tr>\n",
       "      <th>policy_code</th>\n",
       "      <td>policy_code</td>\n",
       "      <td>0.000000</td>\n",
       "    </tr>\n",
       "    <tr>\n",
       "      <th>application_type</th>\n",
       "      <td>application_type</td>\n",
       "      <td>0.000000</td>\n",
       "    </tr>\n",
       "    <tr>\n",
       "      <th>annual_inc_joint</th>\n",
       "      <td>annual_inc_joint</td>\n",
       "      <td>100.000000</td>\n",
       "    </tr>\n",
       "    <tr>\n",
       "      <th>dti_joint</th>\n",
       "      <td>dti_joint</td>\n",
       "      <td>100.000000</td>\n",
       "    </tr>\n",
       "    <tr>\n",
       "      <th>verification_status_joint</th>\n",
       "      <td>verification_status_joint</td>\n",
       "      <td>100.000000</td>\n",
       "    </tr>\n",
       "    <tr>\n",
       "      <th>acc_now_delinq</th>\n",
       "      <td>acc_now_delinq</td>\n",
       "      <td>0.000000</td>\n",
       "    </tr>\n",
       "    <tr>\n",
       "      <th>tot_coll_amt</th>\n",
       "      <td>tot_coll_amt</td>\n",
       "      <td>100.000000</td>\n",
       "    </tr>\n",
       "    <tr>\n",
       "      <th>tot_cur_bal</th>\n",
       "      <td>tot_cur_bal</td>\n",
       "      <td>100.000000</td>\n",
       "    </tr>\n",
       "    <tr>\n",
       "      <th>open_acc_6m</th>\n",
       "      <td>open_acc_6m</td>\n",
       "      <td>100.000000</td>\n",
       "    </tr>\n",
       "    <tr>\n",
       "      <th>open_il_6m</th>\n",
       "      <td>open_il_6m</td>\n",
       "      <td>100.000000</td>\n",
       "    </tr>\n",
       "    <tr>\n",
       "      <th>open_il_12m</th>\n",
       "      <td>open_il_12m</td>\n",
       "      <td>100.000000</td>\n",
       "    </tr>\n",
       "    <tr>\n",
       "      <th>open_il_24m</th>\n",
       "      <td>open_il_24m</td>\n",
       "      <td>100.000000</td>\n",
       "    </tr>\n",
       "    <tr>\n",
       "      <th>mths_since_rcnt_il</th>\n",
       "      <td>mths_since_rcnt_il</td>\n",
       "      <td>100.000000</td>\n",
       "    </tr>\n",
       "    <tr>\n",
       "      <th>total_bal_il</th>\n",
       "      <td>total_bal_il</td>\n",
       "      <td>100.000000</td>\n",
       "    </tr>\n",
       "    <tr>\n",
       "      <th>il_util</th>\n",
       "      <td>il_util</td>\n",
       "      <td>100.000000</td>\n",
       "    </tr>\n",
       "    <tr>\n",
       "      <th>open_rv_12m</th>\n",
       "      <td>open_rv_12m</td>\n",
       "      <td>100.000000</td>\n",
       "    </tr>\n",
       "    <tr>\n",
       "      <th>open_rv_24m</th>\n",
       "      <td>open_rv_24m</td>\n",
       "      <td>100.000000</td>\n",
       "    </tr>\n",
       "    <tr>\n",
       "      <th>max_bal_bc</th>\n",
       "      <td>max_bal_bc</td>\n",
       "      <td>100.000000</td>\n",
       "    </tr>\n",
       "    <tr>\n",
       "      <th>all_util</th>\n",
       "      <td>all_util</td>\n",
       "      <td>100.000000</td>\n",
       "    </tr>\n",
       "    <tr>\n",
       "      <th>total_rev_hi_lim</th>\n",
       "      <td>total_rev_hi_lim</td>\n",
       "      <td>100.000000</td>\n",
       "    </tr>\n",
       "    <tr>\n",
       "      <th>inq_fi</th>\n",
       "      <td>inq_fi</td>\n",
       "      <td>100.000000</td>\n",
       "    </tr>\n",
       "    <tr>\n",
       "      <th>total_cu_tl</th>\n",
       "      <td>total_cu_tl</td>\n",
       "      <td>100.000000</td>\n",
       "    </tr>\n",
       "    <tr>\n",
       "      <th>inq_last_12m</th>\n",
       "      <td>inq_last_12m</td>\n",
       "      <td>100.000000</td>\n",
       "    </tr>\n",
       "    <tr>\n",
       "      <th>acc_open_past_24mths</th>\n",
       "      <td>acc_open_past_24mths</td>\n",
       "      <td>100.000000</td>\n",
       "    </tr>\n",
       "    <tr>\n",
       "      <th>avg_cur_bal</th>\n",
       "      <td>avg_cur_bal</td>\n",
       "      <td>100.000000</td>\n",
       "    </tr>\n",
       "    <tr>\n",
       "      <th>bc_open_to_buy</th>\n",
       "      <td>bc_open_to_buy</td>\n",
       "      <td>100.000000</td>\n",
       "    </tr>\n",
       "    <tr>\n",
       "      <th>bc_util</th>\n",
       "      <td>bc_util</td>\n",
       "      <td>100.000000</td>\n",
       "    </tr>\n",
       "    <tr>\n",
       "      <th>chargeoff_within_12_mths</th>\n",
       "      <td>chargeoff_within_12_mths</td>\n",
       "      <td>0.140998</td>\n",
       "    </tr>\n",
       "    <tr>\n",
       "      <th>delinq_amnt</th>\n",
       "      <td>delinq_amnt</td>\n",
       "      <td>0.000000</td>\n",
       "    </tr>\n",
       "    <tr>\n",
       "      <th>mo_sin_old_il_acct</th>\n",
       "      <td>mo_sin_old_il_acct</td>\n",
       "      <td>100.000000</td>\n",
       "    </tr>\n",
       "    <tr>\n",
       "      <th>mo_sin_old_rev_tl_op</th>\n",
       "      <td>mo_sin_old_rev_tl_op</td>\n",
       "      <td>100.000000</td>\n",
       "    </tr>\n",
       "    <tr>\n",
       "      <th>mo_sin_rcnt_rev_tl_op</th>\n",
       "      <td>mo_sin_rcnt_rev_tl_op</td>\n",
       "      <td>100.000000</td>\n",
       "    </tr>\n",
       "    <tr>\n",
       "      <th>mo_sin_rcnt_tl</th>\n",
       "      <td>mo_sin_rcnt_tl</td>\n",
       "      <td>100.000000</td>\n",
       "    </tr>\n",
       "    <tr>\n",
       "      <th>mort_acc</th>\n",
       "      <td>mort_acc</td>\n",
       "      <td>100.000000</td>\n",
       "    </tr>\n",
       "    <tr>\n",
       "      <th>mths_since_recent_bc</th>\n",
       "      <td>mths_since_recent_bc</td>\n",
       "      <td>100.000000</td>\n",
       "    </tr>\n",
       "    <tr>\n",
       "      <th>mths_since_recent_bc_dlq</th>\n",
       "      <td>mths_since_recent_bc_dlq</td>\n",
       "      <td>100.000000</td>\n",
       "    </tr>\n",
       "    <tr>\n",
       "      <th>mths_since_recent_inq</th>\n",
       "      <td>mths_since_recent_inq</td>\n",
       "      <td>100.000000</td>\n",
       "    </tr>\n",
       "    <tr>\n",
       "      <th>mths_since_recent_revol_delinq</th>\n",
       "      <td>mths_since_recent_revol_delinq</td>\n",
       "      <td>100.000000</td>\n",
       "    </tr>\n",
       "    <tr>\n",
       "      <th>num_accts_ever_120_pd</th>\n",
       "      <td>num_accts_ever_120_pd</td>\n",
       "      <td>100.000000</td>\n",
       "    </tr>\n",
       "    <tr>\n",
       "      <th>num_actv_bc_tl</th>\n",
       "      <td>num_actv_bc_tl</td>\n",
       "      <td>100.000000</td>\n",
       "    </tr>\n",
       "    <tr>\n",
       "      <th>num_actv_rev_tl</th>\n",
       "      <td>num_actv_rev_tl</td>\n",
       "      <td>100.000000</td>\n",
       "    </tr>\n",
       "    <tr>\n",
       "      <th>num_bc_sats</th>\n",
       "      <td>num_bc_sats</td>\n",
       "      <td>100.000000</td>\n",
       "    </tr>\n",
       "    <tr>\n",
       "      <th>num_bc_tl</th>\n",
       "      <td>num_bc_tl</td>\n",
       "      <td>100.000000</td>\n",
       "    </tr>\n",
       "    <tr>\n",
       "      <th>num_il_tl</th>\n",
       "      <td>num_il_tl</td>\n",
       "      <td>100.000000</td>\n",
       "    </tr>\n",
       "    <tr>\n",
       "      <th>num_op_rev_tl</th>\n",
       "      <td>num_op_rev_tl</td>\n",
       "      <td>100.000000</td>\n",
       "    </tr>\n",
       "    <tr>\n",
       "      <th>num_rev_accts</th>\n",
       "      <td>num_rev_accts</td>\n",
       "      <td>100.000000</td>\n",
       "    </tr>\n",
       "    <tr>\n",
       "      <th>num_rev_tl_bal_gt_0</th>\n",
       "      <td>num_rev_tl_bal_gt_0</td>\n",
       "      <td>100.000000</td>\n",
       "    </tr>\n",
       "    <tr>\n",
       "      <th>num_sats</th>\n",
       "      <td>num_sats</td>\n",
       "      <td>100.000000</td>\n",
       "    </tr>\n",
       "    <tr>\n",
       "      <th>num_tl_120dpd_2m</th>\n",
       "      <td>num_tl_120dpd_2m</td>\n",
       "      <td>100.000000</td>\n",
       "    </tr>\n",
       "    <tr>\n",
       "      <th>num_tl_30dpd</th>\n",
       "      <td>num_tl_30dpd</td>\n",
       "      <td>100.000000</td>\n",
       "    </tr>\n",
       "    <tr>\n",
       "      <th>num_tl_90g_dpd_24m</th>\n",
       "      <td>num_tl_90g_dpd_24m</td>\n",
       "      <td>100.000000</td>\n",
       "    </tr>\n",
       "    <tr>\n",
       "      <th>num_tl_op_past_12m</th>\n",
       "      <td>num_tl_op_past_12m</td>\n",
       "      <td>100.000000</td>\n",
       "    </tr>\n",
       "    <tr>\n",
       "      <th>pct_tl_nvr_dlq</th>\n",
       "      <td>pct_tl_nvr_dlq</td>\n",
       "      <td>100.000000</td>\n",
       "    </tr>\n",
       "    <tr>\n",
       "      <th>percent_bc_gt_75</th>\n",
       "      <td>percent_bc_gt_75</td>\n",
       "      <td>100.000000</td>\n",
       "    </tr>\n",
       "    <tr>\n",
       "      <th>pub_rec_bankruptcies</th>\n",
       "      <td>pub_rec_bankruptcies</td>\n",
       "      <td>1.754916</td>\n",
       "    </tr>\n",
       "    <tr>\n",
       "      <th>tax_liens</th>\n",
       "      <td>tax_liens</td>\n",
       "      <td>0.098195</td>\n",
       "    </tr>\n",
       "    <tr>\n",
       "      <th>tot_hi_cred_lim</th>\n",
       "      <td>tot_hi_cred_lim</td>\n",
       "      <td>100.000000</td>\n",
       "    </tr>\n",
       "    <tr>\n",
       "      <th>total_bal_ex_mort</th>\n",
       "      <td>total_bal_ex_mort</td>\n",
       "      <td>100.000000</td>\n",
       "    </tr>\n",
       "    <tr>\n",
       "      <th>total_bc_limit</th>\n",
       "      <td>total_bc_limit</td>\n",
       "      <td>100.000000</td>\n",
       "    </tr>\n",
       "    <tr>\n",
       "      <th>total_il_high_credit_limit</th>\n",
       "      <td>total_il_high_credit_limit</td>\n",
       "      <td>100.000000</td>\n",
       "    </tr>\n",
       "  </tbody>\n",
       "</table>\n",
       "</div>"
      ],
      "text/plain": [
       "                                                   column_name  \\\n",
       "id                                                          id   \n",
       "member_id                                            member_id   \n",
       "loan_amnt                                            loan_amnt   \n",
       "funded_amnt                                        funded_amnt   \n",
       "funded_amnt_inv                                funded_amnt_inv   \n",
       "term                                                      term   \n",
       "int_rate                                              int_rate   \n",
       "installment                                        installment   \n",
       "grade                                                    grade   \n",
       "sub_grade                                            sub_grade   \n",
       "emp_title                                            emp_title   \n",
       "emp_length                                          emp_length   \n",
       "home_ownership                                  home_ownership   \n",
       "annual_inc                                          annual_inc   \n",
       "verification_status                        verification_status   \n",
       "issue_d                                                issue_d   \n",
       "loan_status                                        loan_status   \n",
       "pymnt_plan                                          pymnt_plan   \n",
       "url                                                        url   \n",
       "desc                                                      desc   \n",
       "purpose                                                purpose   \n",
       "title                                                    title   \n",
       "zip_code                                              zip_code   \n",
       "addr_state                                          addr_state   \n",
       "dti                                                        dti   \n",
       "delinq_2yrs                                        delinq_2yrs   \n",
       "earliest_cr_line                              earliest_cr_line   \n",
       "inq_last_6mths                                  inq_last_6mths   \n",
       "mths_since_last_delinq                  mths_since_last_delinq   \n",
       "mths_since_last_record                  mths_since_last_record   \n",
       "open_acc                                              open_acc   \n",
       "pub_rec                                                pub_rec   \n",
       "revol_bal                                            revol_bal   \n",
       "revol_util                                          revol_util   \n",
       "total_acc                                            total_acc   \n",
       "initial_list_status                        initial_list_status   \n",
       "out_prncp                                            out_prncp   \n",
       "out_prncp_inv                                    out_prncp_inv   \n",
       "total_pymnt                                        total_pymnt   \n",
       "total_pymnt_inv                                total_pymnt_inv   \n",
       "total_rec_prncp                                total_rec_prncp   \n",
       "total_rec_int                                    total_rec_int   \n",
       "total_rec_late_fee                          total_rec_late_fee   \n",
       "recoveries                                          recoveries   \n",
       "collection_recovery_fee                collection_recovery_fee   \n",
       "last_pymnt_d                                      last_pymnt_d   \n",
       "last_pymnt_amnt                                last_pymnt_amnt   \n",
       "next_pymnt_d                                      next_pymnt_d   \n",
       "last_credit_pull_d                          last_credit_pull_d   \n",
       "collections_12_mths_ex_med          collections_12_mths_ex_med   \n",
       "mths_since_last_major_derog        mths_since_last_major_derog   \n",
       "policy_code                                        policy_code   \n",
       "application_type                              application_type   \n",
       "annual_inc_joint                              annual_inc_joint   \n",
       "dti_joint                                            dti_joint   \n",
       "verification_status_joint            verification_status_joint   \n",
       "acc_now_delinq                                  acc_now_delinq   \n",
       "tot_coll_amt                                      tot_coll_amt   \n",
       "tot_cur_bal                                        tot_cur_bal   \n",
       "open_acc_6m                                        open_acc_6m   \n",
       "open_il_6m                                          open_il_6m   \n",
       "open_il_12m                                        open_il_12m   \n",
       "open_il_24m                                        open_il_24m   \n",
       "mths_since_rcnt_il                          mths_since_rcnt_il   \n",
       "total_bal_il                                      total_bal_il   \n",
       "il_util                                                il_util   \n",
       "open_rv_12m                                        open_rv_12m   \n",
       "open_rv_24m                                        open_rv_24m   \n",
       "max_bal_bc                                          max_bal_bc   \n",
       "all_util                                              all_util   \n",
       "total_rev_hi_lim                              total_rev_hi_lim   \n",
       "inq_fi                                                  inq_fi   \n",
       "total_cu_tl                                        total_cu_tl   \n",
       "inq_last_12m                                      inq_last_12m   \n",
       "acc_open_past_24mths                      acc_open_past_24mths   \n",
       "avg_cur_bal                                        avg_cur_bal   \n",
       "bc_open_to_buy                                  bc_open_to_buy   \n",
       "bc_util                                                bc_util   \n",
       "chargeoff_within_12_mths              chargeoff_within_12_mths   \n",
       "delinq_amnt                                        delinq_amnt   \n",
       "mo_sin_old_il_acct                          mo_sin_old_il_acct   \n",
       "mo_sin_old_rev_tl_op                      mo_sin_old_rev_tl_op   \n",
       "mo_sin_rcnt_rev_tl_op                    mo_sin_rcnt_rev_tl_op   \n",
       "mo_sin_rcnt_tl                                  mo_sin_rcnt_tl   \n",
       "mort_acc                                              mort_acc   \n",
       "mths_since_recent_bc                      mths_since_recent_bc   \n",
       "mths_since_recent_bc_dlq              mths_since_recent_bc_dlq   \n",
       "mths_since_recent_inq                    mths_since_recent_inq   \n",
       "mths_since_recent_revol_delinq  mths_since_recent_revol_delinq   \n",
       "num_accts_ever_120_pd                    num_accts_ever_120_pd   \n",
       "num_actv_bc_tl                                  num_actv_bc_tl   \n",
       "num_actv_rev_tl                                num_actv_rev_tl   \n",
       "num_bc_sats                                        num_bc_sats   \n",
       "num_bc_tl                                            num_bc_tl   \n",
       "num_il_tl                                            num_il_tl   \n",
       "num_op_rev_tl                                    num_op_rev_tl   \n",
       "num_rev_accts                                    num_rev_accts   \n",
       "num_rev_tl_bal_gt_0                        num_rev_tl_bal_gt_0   \n",
       "num_sats                                              num_sats   \n",
       "num_tl_120dpd_2m                              num_tl_120dpd_2m   \n",
       "num_tl_30dpd                                      num_tl_30dpd   \n",
       "num_tl_90g_dpd_24m                          num_tl_90g_dpd_24m   \n",
       "num_tl_op_past_12m                          num_tl_op_past_12m   \n",
       "pct_tl_nvr_dlq                                  pct_tl_nvr_dlq   \n",
       "percent_bc_gt_75                              percent_bc_gt_75   \n",
       "pub_rec_bankruptcies                      pub_rec_bankruptcies   \n",
       "tax_liens                                            tax_liens   \n",
       "tot_hi_cred_lim                                tot_hi_cred_lim   \n",
       "total_bal_ex_mort                            total_bal_ex_mort   \n",
       "total_bc_limit                                  total_bc_limit   \n",
       "total_il_high_credit_limit          total_il_high_credit_limit   \n",
       "\n",
       "                                percent_missing  \n",
       "id                                     0.000000  \n",
       "member_id                              0.000000  \n",
       "loan_amnt                              0.000000  \n",
       "funded_amnt                            0.000000  \n",
       "funded_amnt_inv                        0.000000  \n",
       "term                                   0.000000  \n",
       "int_rate                               0.000000  \n",
       "installment                            0.000000  \n",
       "grade                                  0.000000  \n",
       "sub_grade                              0.000000  \n",
       "emp_title                              6.191303  \n",
       "emp_length                             2.706650  \n",
       "home_ownership                         0.000000  \n",
       "annual_inc                             0.000000  \n",
       "verification_status                    0.000000  \n",
       "issue_d                                0.000000  \n",
       "loan_status                            0.000000  \n",
       "pymnt_plan                             0.000000  \n",
       "url                                    0.000000  \n",
       "desc                                  32.580507  \n",
       "purpose                                0.000000  \n",
       "title                                  0.027696  \n",
       "zip_code                               0.000000  \n",
       "addr_state                             0.000000  \n",
       "dti                                    0.000000  \n",
       "delinq_2yrs                            0.000000  \n",
       "earliest_cr_line                       0.000000  \n",
       "inq_last_6mths                         0.000000  \n",
       "mths_since_last_delinq                64.662487  \n",
       "mths_since_last_record                92.985372  \n",
       "open_acc                               0.000000  \n",
       "pub_rec                                0.000000  \n",
       "revol_bal                              0.000000  \n",
       "revol_util                             0.125891  \n",
       "total_acc                              0.000000  \n",
       "initial_list_status                    0.000000  \n",
       "out_prncp                              0.000000  \n",
       "out_prncp_inv                          0.000000  \n",
       "total_pymnt                            0.000000  \n",
       "total_pymnt_inv                        0.000000  \n",
       "total_rec_prncp                        0.000000  \n",
       "total_rec_int                          0.000000  \n",
       "total_rec_late_fee                     0.000000  \n",
       "recoveries                             0.000000  \n",
       "collection_recovery_fee                0.000000  \n",
       "last_pymnt_d                           0.178765  \n",
       "last_pymnt_amnt                        0.000000  \n",
       "next_pymnt_d                          97.129693  \n",
       "last_credit_pull_d                     0.005036  \n",
       "collections_12_mths_ex_med             0.140998  \n",
       "mths_since_last_major_derog          100.000000  \n",
       "policy_code                            0.000000  \n",
       "application_type                       0.000000  \n",
       "annual_inc_joint                     100.000000  \n",
       "dti_joint                            100.000000  \n",
       "verification_status_joint            100.000000  \n",
       "acc_now_delinq                         0.000000  \n",
       "tot_coll_amt                         100.000000  \n",
       "tot_cur_bal                          100.000000  \n",
       "open_acc_6m                          100.000000  \n",
       "open_il_6m                           100.000000  \n",
       "open_il_12m                          100.000000  \n",
       "open_il_24m                          100.000000  \n",
       "mths_since_rcnt_il                   100.000000  \n",
       "total_bal_il                         100.000000  \n",
       "il_util                              100.000000  \n",
       "open_rv_12m                          100.000000  \n",
       "open_rv_24m                          100.000000  \n",
       "max_bal_bc                           100.000000  \n",
       "all_util                             100.000000  \n",
       "total_rev_hi_lim                     100.000000  \n",
       "inq_fi                               100.000000  \n",
       "total_cu_tl                          100.000000  \n",
       "inq_last_12m                         100.000000  \n",
       "acc_open_past_24mths                 100.000000  \n",
       "avg_cur_bal                          100.000000  \n",
       "bc_open_to_buy                       100.000000  \n",
       "bc_util                              100.000000  \n",
       "chargeoff_within_12_mths               0.140998  \n",
       "delinq_amnt                            0.000000  \n",
       "mo_sin_old_il_acct                   100.000000  \n",
       "mo_sin_old_rev_tl_op                 100.000000  \n",
       "mo_sin_rcnt_rev_tl_op                100.000000  \n",
       "mo_sin_rcnt_tl                       100.000000  \n",
       "mort_acc                             100.000000  \n",
       "mths_since_recent_bc                 100.000000  \n",
       "mths_since_recent_bc_dlq             100.000000  \n",
       "mths_since_recent_inq                100.000000  \n",
       "mths_since_recent_revol_delinq       100.000000  \n",
       "num_accts_ever_120_pd                100.000000  \n",
       "num_actv_bc_tl                       100.000000  \n",
       "num_actv_rev_tl                      100.000000  \n",
       "num_bc_sats                          100.000000  \n",
       "num_bc_tl                            100.000000  \n",
       "num_il_tl                            100.000000  \n",
       "num_op_rev_tl                        100.000000  \n",
       "num_rev_accts                        100.000000  \n",
       "num_rev_tl_bal_gt_0                  100.000000  \n",
       "num_sats                             100.000000  \n",
       "num_tl_120dpd_2m                     100.000000  \n",
       "num_tl_30dpd                         100.000000  \n",
       "num_tl_90g_dpd_24m                   100.000000  \n",
       "num_tl_op_past_12m                   100.000000  \n",
       "pct_tl_nvr_dlq                       100.000000  \n",
       "percent_bc_gt_75                     100.000000  \n",
       "pub_rec_bankruptcies                   1.754916  \n",
       "tax_liens                              0.098195  \n",
       "tot_hi_cred_lim                      100.000000  \n",
       "total_bal_ex_mort                    100.000000  \n",
       "total_bc_limit                       100.000000  \n",
       "total_il_high_credit_limit           100.000000  "
      ]
     },
     "execution_count": 445,
     "metadata": {},
     "output_type": "execute_result"
    }
   ],
   "source": [
    "# Find out the percentage of missing values in each column\n",
    "percent_missing = df.isnull().sum() * 100 / len(df)\n",
    "missing_value_df = pd.DataFrame({'column_name': df.columns,\n",
    "                                 'percent_missing': percent_missing})\n",
    "missing_value_df"
   ]
  },
  {
   "cell_type": "markdown",
   "metadata": {},
   "source": [
    "I noticed that some columns have very high percentage of missing values(more than 90%). Since these variables will give us very limited information, thus I decided to delete them"
   ]
  },
  {
   "cell_type": "code",
   "execution_count": 446,
   "metadata": {},
   "outputs": [],
   "source": [
    "#Delete columns with more than 90% missing values from the original dataset\n",
    "a=missing_value_df[missing_value_df.percent_missing< 90].column_name.to_list()\n",
    "df2=df.loc[:,a]\n",
    "#Delete rows with more than 10% missing values\n",
    "df3=df2.loc[df2.isnull().sum(axis=1)*100/len(df2.columns) < 10, :] "
   ]
  },
  {
   "cell_type": "markdown",
   "metadata": {},
   "source": [
    "After deleting columns with the percentage of missing values above 90%, the dataset left with 55 variables. When exploring these variables, I understood that there are mainly 3 types of variables: demographic variables which related to the applicant, loan characterristic variables and customer behavior variables. The customer behavior variables are not available at the time of loan application, and thus they cannot be used as predictors for credit approval.\n",
    "Variables like 'acc_now_delinq', 'chargeoff_within_12_mths', 'delinq_amnt','pub_rec_bankruptcies', 'tax_liens' are related to the applicant's past loans, thus they should be kept.  "
   ]
  },
  {
   "cell_type": "code",
   "execution_count": 447,
   "metadata": {},
   "outputs": [
    {
     "data": {
      "text/plain": [
       "Index(['id', 'member_id', 'loan_amnt', 'funded_amnt', 'funded_amnt_inv',\n",
       "       'term', 'int_rate', 'installment', 'grade', 'sub_grade', 'emp_title',\n",
       "       'emp_length', 'home_ownership', 'annual_inc', 'verification_status',\n",
       "       'issue_d', 'loan_status', 'pymnt_plan', 'url', 'desc', 'purpose',\n",
       "       'title', 'zip_code', 'addr_state', 'dti', 'delinq_2yrs',\n",
       "       'earliest_cr_line', 'inq_last_6mths', 'mths_since_last_delinq',\n",
       "       'open_acc', 'pub_rec', 'revol_bal', 'revol_util', 'total_acc',\n",
       "       'initial_list_status', 'out_prncp', 'out_prncp_inv', 'total_pymnt',\n",
       "       'total_pymnt_inv', 'total_rec_prncp', 'total_rec_int',\n",
       "       'total_rec_late_fee', 'recoveries', 'collection_recovery_fee',\n",
       "       'last_pymnt_d', 'last_pymnt_amnt', 'last_credit_pull_d',\n",
       "       'collections_12_mths_ex_med', 'policy_code', 'application_type',\n",
       "       'acc_now_delinq', 'chargeoff_within_12_mths', 'delinq_amnt',\n",
       "       'pub_rec_bankruptcies', 'tax_liens'],\n",
       "      dtype='object')"
      ]
     },
     "execution_count": 447,
     "metadata": {},
     "output_type": "execute_result"
    }
   ],
   "source": [
    "df3.columns"
   ]
  },
  {
   "cell_type": "code",
   "execution_count": 448,
   "metadata": {},
   "outputs": [],
   "source": [
    "#Delete customer behavior variables\n",
    "c=['funded_amnt', 'funded_amnt_inv','delinq_2yrs',\n",
    "       'earliest_cr_line', 'inq_last_6mths', 'mths_since_last_delinq',\n",
    "       'open_acc', 'pub_rec', 'revol_bal', 'revol_util', 'total_acc',\n",
    "       'initial_list_status', 'out_prncp', 'out_prncp_inv', 'total_pymnt',\n",
    "       'total_pymnt_inv', 'total_rec_prncp', 'total_rec_int',\n",
    "       'total_rec_late_fee', 'recoveries', 'collection_recovery_fee',\n",
    "       'last_pymnt_d', 'last_pymnt_amnt', 'last_credit_pull_d',\n",
    "       'collections_12_mths_ex_med', 'application_type','installment']\n",
    "df4=df3.drop(c, axis = 1)"
   ]
  },
  {
   "cell_type": "markdown",
   "metadata": {},
   "source": [
    "- For the remaining variables,'url' gives us few information regarding uderstanding the driving factors behind loan default. 'desc','purpose' and 'title' are redundent since they are suggesting the same information. For these three variables, I decided to keep 'purpose' since it's more cleanly categorized. 'emp_title' also seems unnecessary given there is already the variable 'annual_inc'\n",
    "- The variables 'zip_code' and 'addr_state' both suggesting address info, thus I decided to only keep 'addr_state' \n",
    "\n",
    "\n",
    "\n",
    "\n"
   ]
  },
  {
   "cell_type": "code",
   "execution_count": 449,
   "metadata": {},
   "outputs": [],
   "source": [
    "#Drop unrelated/redundant variables \n",
    "d=['url','desc','title','emp_title','zip_code']\n",
    "df5=df4.drop(d,axis=1)"
   ]
  },
  {
   "cell_type": "markdown",
   "metadata": {},
   "source": [
    "For the variable 'loan_status', the ones marked 'current' are neither fully paid not defaulted, so we should drop those rows. And in order to make analysis more simple and clean, I coded the other two values: Charged Off as 1 and Fully Paid as 0 "
   ]
  },
  {
   "cell_type": "code",
   "execution_count": 450,
   "metadata": {},
   "outputs": [
    {
     "name": "stderr",
     "output_type": "stream",
     "text": [
      "C:\\Python\\lib\\site-packages\\pandas\\core\\generic.py:6619: SettingWithCopyWarning: \n",
      "A value is trying to be set on a copy of a slice from a DataFrame\n",
      "\n",
      "See the caveats in the documentation: https://pandas.pydata.org/pandas-docs/stable/user_guide/indexing.html#returning-a-view-versus-a-copy\n",
      "  return self._update_inplace(result)\n"
     ]
    }
   ],
   "source": [
    "#Drop rows with the value of 'loan_status' is 'Current'\n",
    "df6= df5[df5['loan_status'] != 'Current']\n",
    "#Set Charged Off as 1 and Fully Paid as 0\n",
    "df6['loan_status'].replace({\"Fully Paid\": 0, \"Charged Off\": 1}, inplace=True)"
   ]
  },
  {
   "cell_type": "code",
   "execution_count": 451,
   "metadata": {},
   "outputs": [
    {
     "name": "stdout",
     "output_type": "stream",
     "text": [
      "<class 'pandas.core.frame.DataFrame'>\n",
      "Int64Index: 38573 entries, 0 to 39716\n",
      "Data columns (total 23 columns):\n",
      " #   Column                    Non-Null Count  Dtype  \n",
      "---  ------                    --------------  -----  \n",
      " 0   id                        38573 non-null  int64  \n",
      " 1   member_id                 38573 non-null  int64  \n",
      " 2   loan_amnt                 38573 non-null  int64  \n",
      " 3   term                      38573 non-null  object \n",
      " 4   int_rate                  38573 non-null  object \n",
      " 5   grade                     38573 non-null  object \n",
      " 6   sub_grade                 38573 non-null  object \n",
      " 7   emp_length                37540 non-null  object \n",
      " 8   home_ownership            38573 non-null  object \n",
      " 9   annual_inc                38573 non-null  float64\n",
      " 10  verification_status       38573 non-null  object \n",
      " 11  issue_d                   38573 non-null  object \n",
      " 12  loan_status               38573 non-null  int64  \n",
      " 13  pymnt_plan                38573 non-null  object \n",
      " 14  purpose                   38573 non-null  object \n",
      " 15  addr_state                38573 non-null  object \n",
      " 16  dti                       38573 non-null  float64\n",
      " 17  policy_code               38573 non-null  int64  \n",
      " 18  acc_now_delinq            38573 non-null  int64  \n",
      " 19  chargeoff_within_12_mths  38521 non-null  float64\n",
      " 20  delinq_amnt               38573 non-null  int64  \n",
      " 21  pub_rec_bankruptcies      37880 non-null  float64\n",
      " 22  tax_liens                 38538 non-null  float64\n",
      "dtypes: float64(5), int64(7), object(11)\n",
      "memory usage: 7.1+ MB\n"
     ]
    }
   ],
   "source": [
    "#Explore the dataset\n",
    "df6.info()"
   ]
  },
  {
   "cell_type": "markdown",
   "metadata": {},
   "source": [
    "- The variable 'term' stands for the number of payments in months on the loan. Thus, I decided to use integers to represent the number of months.The variable 'int_rate' stands for the Interest Rate on the loan in percentage. So it would be more clear if we change it into integer.\n",
    "- The variable 'issue_d' represents the month which the loan was funded. Thus, I decided extract months only for this variable.\n",
    "- The variable 'emp_length' represents employment length in years.So it's better if we convert it into integers which values are between 0 and 10 where 0 means less than one year and 10 means ten or more years. \n"
   ]
  },
  {
   "cell_type": "code",
   "execution_count": 452,
   "metadata": {},
   "outputs": [
    {
     "name": "stderr",
     "output_type": "stream",
     "text": [
      "C:\\Python\\lib\\site-packages\\pandas\\core\\indexing.py:1773: SettingWithCopyWarning: \n",
      "A value is trying to be set on a copy of a slice from a DataFrame.\n",
      "Try using .loc[row_indexer,col_indexer] = value instead\n",
      "\n",
      "See the caveats in the documentation: https://pandas.pydata.org/pandas-docs/stable/user_guide/indexing.html#returning-a-view-versus-a-copy\n",
      "  self._setitem_single_column(ilocs[0], value, pi)\n",
      "<ipython-input-452-031b24bffe38>:11: SettingWithCopyWarning: \n",
      "A value is trying to be set on a copy of a slice from a DataFrame.\n",
      "Try using .loc[row_indexer,col_indexer] = value instead\n",
      "\n",
      "See the caveats in the documentation: https://pandas.pydata.org/pandas-docs/stable/user_guide/indexing.html#returning-a-view-versus-a-copy\n",
      "  df6['emp_length']=df6['emp_length'].astype('int64')\n",
      "<ipython-input-452-031b24bffe38>:12: SettingWithCopyWarning: \n",
      "A value is trying to be set on a copy of a slice from a DataFrame.\n",
      "Try using .loc[row_indexer,col_indexer] = value instead\n",
      "\n",
      "See the caveats in the documentation: https://pandas.pydata.org/pandas-docs/stable/user_guide/indexing.html#returning-a-view-versus-a-copy\n",
      "  df6['emp_length']=df6['emp_length'].replace(-1,np.nan)\n"
     ]
    }
   ],
   "source": [
    "#Change the variable 'term','int_rate' into integers\n",
    "df6.loc[:,'term']=df6['term'].apply(lambda x: str(x)[:3]).astype('int64')\n",
    "df6.loc[:,'int_rate']=df6['int_rate'].apply(lambda x: str(x)[:-1]).astype('float')\n",
    "#Extract only months for the variable 'issue_d'\n",
    "df6.loc[:,'issue_d']=df6['issue_d'].apply(lambda x: str(x)[-3:])\n",
    "#Convert the variable 'emp_length'\n",
    "df6['emp_length'].replace({\"10+ years\": '10 years', \"< 1 year\": '0 year'}, inplace=True) \n",
    "df6.loc[:,'emp_length']=df6['emp_length'].apply(lambda x: str(x)[:2])\n",
    "#In order to change the dtype of 'emp_length', we replace null value to -1 then reset to nan after done converting\n",
    "df6['emp_length'].replace({\"na\": -1}, inplace=True) \n",
    "df6['emp_length']=df6['emp_length'].astype('int64')\n",
    "df6['emp_length']=df6['emp_length'].replace(-1,np.nan)\n"
   ]
  },
  {
   "cell_type": "markdown",
   "metadata": {},
   "source": [
    "Next, we will examine the usefullness of each variable based on their value counts: "
   ]
  },
  {
   "cell_type": "code",
   "execution_count": 453,
   "metadata": {},
   "outputs": [
    {
     "name": "stdout",
     "output_type": "stream",
     "text": [
      "---- id ---\n",
      "1077501    1\n",
      "562349     1\n",
      "562332     1\n",
      "562133     1\n",
      "562261     1\n",
      "          ..\n",
      "774055     1\n",
      "774290     1\n",
      "774295     1\n",
      "772732     1\n",
      "87023      1\n",
      "Name: id, Length: 38573, dtype: int64\n",
      "---- member_id ---\n",
      "1296599    1\n",
      "723638     1\n",
      "723618     1\n",
      "723395     1\n",
      "723534     1\n",
      "          ..\n",
      "976154     1\n",
      "976453     1\n",
      "976458     1\n",
      "974723     1\n",
      "86999      1\n",
      "Name: member_id, Length: 38573, dtype: int64\n",
      "---- loan_amnt ---\n",
      "10000    2809\n",
      "12000    2248\n",
      "5000     2026\n",
      "6000     1886\n",
      "15000    1838\n",
      "         ... \n",
      "18325       1\n",
      "9650        1\n",
      "20450       1\n",
      "15425       1\n",
      "22550       1\n",
      "Name: loan_amnt, Length: 870, dtype: int64\n",
      "---- term ---\n",
      "36    29092\n",
      "60     9481\n",
      "Name: term, dtype: int64\n",
      "---- int_rate ---\n",
      "10.99    913\n",
      "11.49    790\n",
      "7.51     787\n",
      "13.49    749\n",
      "7.88     725\n",
      "7.49     651\n",
      "9.99     590\n",
      "7.90     574\n",
      "5.42     573\n",
      "11.71    559\n",
      "11.99    483\n",
      "10.37    467\n",
      "12.69    451\n",
      "6.03     447\n",
      "8.49     434\n",
      "5.79     410\n",
      "12.99    409\n",
      "12.42    403\n",
      "10.65    403\n",
      "7.29     397\n",
      "6.62     396\n",
      "11.86    391\n",
      "8.90     386\n",
      "9.63     378\n",
      "10.59    358\n",
      "9.91     357\n",
      "5.99     347\n",
      "14.27    344\n",
      "7.14     341\n",
      "6.99     336\n",
      "11.11    331\n",
      "12.53    327\n",
      "10.74    311\n",
      "6.54     305\n",
      "6.91     303\n",
      "8.94     294\n",
      "16.77    294\n",
      "7.66     292\n",
      "13.61    291\n",
      "13.98    284\n",
      "13.23    263\n",
      "11.12    259\n",
      "15.99    259\n",
      "6.17     252\n",
      "12.68    251\n",
      "10.75    250\n",
      "10.36    250\n",
      "10.00    249\n",
      "11.36    247\n",
      "13.99    241\n",
      "11.83    233\n",
      "10.62    228\n",
      "10.38    219\n",
      "13.06    219\n",
      "10.25    218\n",
      "16.49    218\n",
      "14.96    214\n",
      "15.65    208\n",
      "18.25    207\n",
      "11.14    206\n",
      "6.92     204\n",
      "12.18    203\n",
      "15.23    200\n",
      "15.95    199\n",
      "14.65    198\n",
      "16.32    198\n",
      "8.00     191\n",
      "15.21    187\n",
      "12.73    187\n",
      "9.62     186\n",
      "15.27    185\n",
      "15.58    185\n",
      "9.32     184\n",
      "11.48    183\n",
      "16.89    182\n",
      "9.88     181\n",
      "8.59     181\n",
      "12.61    181\n",
      "14.79    177\n",
      "13.11    177\n",
      "12.87    176\n",
      "17.49    173\n",
      "15.62    171\n",
      "14.91    170\n",
      "12.21    169\n",
      "17.27    169\n",
      "6.76     168\n",
      "15.96    167\n",
      "16.45    162\n",
      "8.88     160\n",
      "11.89    154\n",
      "7.74     153\n",
      "13.48    152\n",
      "16.02    149\n",
      "17.58    148\n",
      "15.28    147\n",
      "13.43    145\n",
      "16.29    142\n",
      "13.22    142\n",
      "16.40    140\n",
      "9.25     139\n",
      "13.57    135\n",
      "18.39    134\n",
      "12.23    134\n",
      "12.84    133\n",
      "16.82    132\n",
      "13.16    131\n",
      "13.80    131\n",
      "13.85    130\n",
      "17.99    128\n",
      "13.35    127\n",
      "14.26    125\n",
      "13.47    124\n",
      "14.17    122\n",
      "13.92    121\n",
      "18.64    121\n",
      "14.35    120\n",
      "14.84    120\n",
      "14.22    118\n",
      "13.72    116\n",
      "12.98    116\n",
      "14.59    113\n",
      "14.72    112\n",
      "13.79    111\n",
      "17.19    110\n",
      "14.46    107\n",
      "17.14    107\n",
      "17.56    106\n",
      "19.29    104\n",
      "19.03    102\n",
      "15.33    102\n",
      "11.58     99\n",
      "18.79     96\n",
      "16.00     95\n",
      "14.61     92\n",
      "19.42     91\n",
      "15.31     91\n",
      "11.26     91\n",
      "14.11     91\n",
      "7.68      89\n",
      "14.83     89\n",
      "19.69     88\n",
      "14.42     84\n",
      "15.70     80\n",
      "17.93     79\n",
      "15.57     79\n",
      "10.95     78\n",
      "20.30     77\n",
      "19.91     76\n",
      "14.54     75\n",
      "7.40      72\n",
      "20.25     69\n",
      "14.09     68\n",
      "15.20     67\n",
      "17.88     66\n",
      "9.76      65\n",
      "14.74     65\n",
      "17.51     64\n",
      "15.05     59\n",
      "18.30     58\n",
      "6.39      58\n",
      "16.07     57\n",
      "20.89     56\n",
      "11.03     50\n",
      "16.69     50\n",
      "10.39     49\n",
      "18.62     49\n",
      "10.08     48\n",
      "20.62     46\n",
      "20.99     46\n",
      "16.35     44\n",
      "8.32      44\n",
      "10.71     43\n",
      "15.37     43\n",
      "18.67     42\n",
      "11.34     41\n",
      "21.36     38\n",
      "21.28     38\n",
      "8.63      38\n",
      "11.66     38\n",
      "15.68     38\n",
      "21.67     37\n",
      "11.97     37\n",
      "9.45      37\n",
      "12.29     36\n",
      "17.06     34\n",
      "16.70     34\n",
      "19.04     32\n",
      "7.37      31\n",
      "17.43     31\n",
      "19.36     31\n",
      "10.83     30\n",
      "18.99     30\n",
      "19.74     30\n",
      "13.24     29\n",
      "21.74     29\n",
      "22.06     27\n",
      "17.04     26\n",
      "12.92     26\n",
      "22.11     26\n",
      "11.78     26\n",
      "18.17     26\n",
      "11.46     25\n",
      "20.11     25\n",
      "7.43      25\n",
      "19.41     25\n",
      "22.35     23\n",
      "7.75      23\n",
      "7.05      23\n",
      "8.07      22\n",
      "10.51     22\n",
      "20.48     22\n",
      "10.28     21\n",
      "9.38      21\n",
      "18.54     20\n",
      "12.41     20\n",
      "9.96      19\n",
      "17.80     19\n",
      "11.28     18\n",
      "10.20     18\n",
      "12.09     18\n",
      "17.74     18\n",
      "8.38      18\n",
      "13.55     18\n",
      "9.64      17\n",
      "13.67     17\n",
      "10.91     17\n",
      "13.04     17\n",
      "12.72     16\n",
      "6.00      16\n",
      "22.48     16\n",
      "16.95     16\n",
      "10.78     16\n",
      "11.22     15\n",
      "9.07      15\n",
      "17.39     15\n",
      "20.85     15\n",
      "22.74     15\n",
      "10.96     14\n",
      "7.91      14\n",
      "9.33      14\n",
      "13.87     14\n",
      "20.03     13\n",
      "12.22     13\n",
      "18.43     13\n",
      "16.63     13\n",
      "21.27     13\n",
      "19.79     12\n",
      "9.01      12\n",
      "20.53     12\n",
      "20.16     12\n",
      "11.54     12\n",
      "11.91     11\n",
      "19.13     11\n",
      "8.70      11\n",
      "17.26     11\n",
      "9.20      11\n",
      "20.90     11\n",
      "10.14     10\n",
      "20.77     10\n",
      "12.17     10\n",
      "12.49      9\n",
      "11.72      9\n",
      "19.66      9\n",
      "18.09      9\n",
      "14.18      9\n",
      "9.51       9\n",
      "23.22      9\n",
      "23.91      9\n",
      "10.33      9\n",
      "11.59      9\n",
      "21.59      8\n",
      "13.30      8\n",
      "22.85      8\n",
      "9.83       8\n",
      "12.80      8\n",
      "18.91      8\n",
      "13.36      8\n",
      "12.36      8\n",
      "9.70       8\n",
      "14.50      8\n",
      "23.13      8\n",
      "18.07      8\n",
      "11.63      8\n",
      "12.86      8\n",
      "19.47      7\n",
      "21.22      7\n",
      "7.12       7\n",
      "7.42       7\n",
      "10.01      7\n",
      "14.93      7\n",
      "9.67       7\n",
      "12.04      7\n",
      "11.41      7\n",
      "10.46      7\n",
      "23.52      6\n",
      "14.82      6\n",
      "13.17      6\n",
      "16.11      6\n",
      "12.67      5\n",
      "11.09      5\n",
      "14.30      5\n",
      "16.59      5\n",
      "12.12      5\n",
      "12.54      5\n",
      "13.75      5\n",
      "19.82      5\n",
      "14.38      5\n",
      "18.21      5\n",
      "21.21      4\n",
      "15.13      4\n",
      "19.39      4\n",
      "18.78      4\n",
      "18.53      4\n",
      "23.59      4\n",
      "21.14      4\n",
      "15.25      4\n",
      "15.88      4\n",
      "13.62      3\n",
      "20.86      3\n",
      "18.49      3\n",
      "13.12      3\n",
      "13.93      3\n",
      "20.40      3\n",
      "20.17      3\n",
      "20.69      3\n",
      "16.08      3\n",
      "21.64      3\n",
      "15.76      3\n",
      "14.75      3\n",
      "15.45      3\n",
      "12.62      3\n",
      "18.84      3\n",
      "19.16      3\n",
      "24.11      3\n",
      "14.12      3\n",
      "14.70      2\n",
      "14.25      2\n",
      "14.88      2\n",
      "14.07      2\n",
      "15.83      2\n",
      "15.01      2\n",
      "21.82      2\n",
      "17.15      2\n",
      "17.03      2\n",
      "10.64      2\n",
      "20.20      2\n",
      "17.90      2\n",
      "15.07      2\n",
      "16.33      2\n",
      "13.84      2\n",
      "15.38      2\n",
      "14.62      2\n",
      "20.52      1\n",
      "16.71      1\n",
      "22.94      1\n",
      "21.48      1\n",
      "17.44      1\n",
      "14.67      1\n",
      "24.40      1\n",
      "17.46      1\n",
      "22.64      1\n",
      "17.54      1\n",
      "17.34      1\n",
      "18.72      1\n",
      "16.96      1\n",
      "18.36      1\n",
      "16.15      1\n",
      "16.01      1\n",
      "16.20      1\n",
      "Name: int_rate, dtype: int64\n",
      "---- grade ---\n",
      "B    11673\n",
      "A    10043\n",
      "C     7834\n",
      "D     5085\n",
      "E     2663\n",
      "F      976\n",
      "G      299\n",
      "Name: grade, dtype: int64\n",
      "---- sub_grade ---\n",
      "A4    2872\n",
      "B3    2825\n",
      "A5    2715\n",
      "B5    2615\n",
      "B4    2436\n",
      "C1    2055\n",
      "B2    2001\n",
      "C2    1931\n",
      "A3    1810\n",
      "B1    1796\n",
      "A2    1507\n",
      "C3    1488\n",
      "D2    1286\n",
      "C4    1206\n",
      "C5    1154\n",
      "A1    1139\n",
      "D3    1116\n",
      "D1     931\n",
      "D4     918\n",
      "D5     834\n",
      "E1     722\n",
      "E2     614\n",
      "E3     516\n",
      "E4     424\n",
      "E5     387\n",
      "F1     305\n",
      "F2     233\n",
      "F3     174\n",
      "F4     151\n",
      "F5     113\n",
      "G1      94\n",
      "G2      77\n",
      "G4      54\n",
      "G3      45\n",
      "G5      29\n",
      "Name: sub_grade, dtype: int64\n",
      "---- emp_length ---\n",
      "10.0    8488\n",
      "0.0     4504\n",
      "2.0     4291\n",
      "3.0     4012\n",
      "4.0     3342\n",
      "5.0     3194\n",
      "1.0     3169\n",
      "6.0     2168\n",
      "7.0     1711\n",
      "8.0     1435\n",
      "9.0     1226\n",
      "Name: emp_length, dtype: int64\n",
      "---- home_ownership ---\n",
      "RENT        18480\n",
      "MORTGAGE    17019\n",
      "OWN          2975\n",
      "OTHER          98\n",
      "NONE            1\n",
      "Name: home_ownership, dtype: int64\n",
      "---- annual_inc ---\n",
      "60000.0     1466\n",
      "50000.0     1029\n",
      "40000.0      855\n",
      "45000.0      811\n",
      "30000.0      808\n",
      "            ... \n",
      "80569.0        1\n",
      "82116.0        1\n",
      "242400.0       1\n",
      "133300.0       1\n",
      "27376.0        1\n",
      "Name: annual_inc, Length: 5215, dtype: int64\n",
      "---- verification_status ---\n",
      "Not Verified       16690\n",
      "Verified           12206\n",
      "Source Verified     9677\n",
      "Name: verification_status, dtype: int64\n",
      "---- issue_d ---\n",
      "Dec    4215\n",
      "Nov    4006\n",
      "Oct    3761\n",
      "Sep    3498\n",
      "Aug    3386\n",
      "Jul    3349\n",
      "Jun    3180\n",
      "May    2919\n",
      "Apr    2831\n",
      "Mar    2691\n",
      "Jan    2379\n",
      "Feb    2358\n",
      "Name: issue_d, dtype: int64\n",
      "---- loan_status ---\n",
      "0    32946\n",
      "1     5627\n",
      "Name: loan_status, dtype: int64\n",
      "---- pymnt_plan ---\n",
      "n    38573\n",
      "Name: pymnt_plan, dtype: int64\n",
      "---- purpose ---\n",
      "debt_consolidation    18054\n",
      "credit_card            5027\n",
      "other                  3862\n",
      "home_improvement       2875\n",
      "major_purchase         2150\n",
      "small_business         1754\n",
      "car                    1499\n",
      "wedding                 926\n",
      "medical                 681\n",
      "moving                  576\n",
      "vacation                375\n",
      "house                   367\n",
      "educational             325\n",
      "renewable_energy        102\n",
      "Name: purpose, dtype: int64\n",
      "---- addr_state ---\n",
      "CA    6948\n",
      "NY    3698\n",
      "FL    2781\n",
      "TX    2659\n",
      "NJ    1790\n",
      "IL    1478\n",
      "PA    1468\n",
      "VA    1369\n",
      "GA    1359\n",
      "MA    1295\n",
      "OH    1178\n",
      "MD    1022\n",
      "AZ     849\n",
      "WA     818\n",
      "CO     766\n",
      "NC     750\n",
      "CT     726\n",
      "MI     704\n",
      "MO     670\n",
      "MN     605\n",
      "NV     479\n",
      "SC     459\n",
      "WI     440\n",
      "AL     435\n",
      "OR     435\n",
      "LA     427\n",
      "KY     311\n",
      "OK     287\n",
      "KS     255\n",
      "UT     252\n",
      "AR     235\n",
      "DC     211\n",
      "RI     194\n",
      "NM     183\n",
      "WV     172\n",
      "NH     166\n",
      "HI     166\n",
      "DE     113\n",
      "MT      83\n",
      "WY      80\n",
      "AK      78\n",
      "SD      62\n",
      "VT      53\n",
      "MS      19\n",
      "TN      17\n",
      "IN       9\n",
      "ID       6\n",
      "IA       5\n",
      "NE       5\n",
      "ME       3\n",
      "Name: addr_state, dtype: int64\n",
      "---- dti ---\n",
      "0.00     178\n",
      "12.00     46\n",
      "18.00     45\n",
      "19.20     39\n",
      "13.20     39\n",
      "        ... \n",
      "28.95      1\n",
      "25.85      1\n",
      "25.77      1\n",
      "27.20      1\n",
      "25.43      1\n",
      "Name: dti, Length: 2853, dtype: int64\n",
      "---- policy_code ---\n",
      "1    38573\n",
      "Name: policy_code, dtype: int64\n",
      "---- acc_now_delinq ---\n",
      "0    38573\n",
      "Name: acc_now_delinq, dtype: int64\n",
      "---- chargeoff_within_12_mths ---\n",
      "0.0    38521\n",
      "Name: chargeoff_within_12_mths, dtype: int64\n",
      "---- delinq_amnt ---\n",
      "0    38573\n",
      "Name: delinq_amnt, dtype: int64\n",
      "---- pub_rec_bankruptcies ---\n",
      "0.0    36238\n",
      "1.0     1637\n",
      "2.0        5\n",
      "Name: pub_rec_bankruptcies, dtype: int64\n",
      "---- tax_liens ---\n",
      "0.0    38538\n",
      "Name: tax_liens, dtype: int64\n"
     ]
    }
   ],
   "source": [
    "#Value counts for each columns\n",
    "for c in df6.columns:\n",
    "    print (\"---- %s ---\" % c)\n",
    "    print (df6[c].value_counts())"
   ]
  },
  {
   "cell_type": "markdown",
   "metadata": {},
   "source": [
    "We found out that 'pymnt_plan', 'policy_code', 'acc_now_delinq','chargeoff_within_12_mths','delinq_amnt' and 'tax_liens' only contain one unique value. These variables are not useful when finding the driving factors behind load default. Thus, I decided to delete them.   \n"
   ]
  },
  {
   "cell_type": "code",
   "execution_count": 454,
   "metadata": {},
   "outputs": [],
   "source": [
    "#Deleting varibales that contain only one unique value\n",
    "e=['pymnt_plan','policy_code','acc_now_delinq', 'chargeoff_within_12_mths', 'delinq_amnt', 'tax_liens']\n",
    "df7=df6.drop(e,axis=1)"
   ]
  },
  {
   "cell_type": "markdown",
   "metadata": {},
   "source": [
    "Next, dealing with missing values"
   ]
  },
  {
   "cell_type": "code",
   "execution_count": 455,
   "metadata": {
    "scrolled": true
   },
   "outputs": [
    {
     "data": {
      "text/plain": [
       "id                         0\n",
       "member_id                  0\n",
       "loan_amnt                  0\n",
       "term                       0\n",
       "int_rate                   0\n",
       "grade                      0\n",
       "sub_grade                  0\n",
       "emp_length              1033\n",
       "home_ownership             0\n",
       "annual_inc                 0\n",
       "verification_status        0\n",
       "issue_d                    0\n",
       "loan_status                0\n",
       "purpose                    0\n",
       "addr_state                 0\n",
       "dti                        0\n",
       "pub_rec_bankruptcies     693\n",
       "dtype: int64"
      ]
     },
     "execution_count": 455,
     "metadata": {},
     "output_type": "execute_result"
    }
   ],
   "source": [
    "#Explore the missing values in the processed dataset\n",
    "df7.isnull().sum()"
   ]
  },
  {
   "cell_type": "markdown",
   "metadata": {},
   "source": [
    "Missing values imputation: there are two variables containing missing values- 'emp_length' and 'pub_rec_bankruptcies'. For the numerical variable 'emp_length', I imputed the missing values with the mean value. For the variable 'pub_rec_bankruptcies', we'd better treat it as a categorical variable and use the mode as the imputation metric"
   ]
  },
  {
   "cell_type": "markdown",
   "metadata": {},
   "source": [
    "Next, check duplicate rows"
   ]
  },
  {
   "cell_type": "code",
   "execution_count": 456,
   "metadata": {},
   "outputs": [],
   "source": [
    "df7.drop_duplicates(inplace=True) # No duplicate rows"
   ]
  },
  {
   "cell_type": "markdown",
   "metadata": {},
   "source": [
    "Next, detect and remove outliers"
   ]
  },
  {
   "cell_type": "code",
   "execution_count": 457,
   "metadata": {},
   "outputs": [
    {
     "data": {
      "text/plain": [
       "[Text(0.5, 0, 'dti')]"
      ]
     },
     "execution_count": 457,
     "metadata": {},
     "output_type": "execute_result"
    },
    {
     "data": {
      "image/png": "[encoded data removed]",
      "text/plain": [
       "<Figure size 1152x576 with 3 Axes>"
      ]
     },
     "metadata": {
      "needs_background": "light"
     },
     "output_type": "display_data"
    }
   ],
   "source": [
    "fig, axes = plt.subplots(1, 3, figsize=(16,8))  #Create subplots\n",
    "#Plot boxplots for variables\n",
    "sns.boxplot(ax=axes[0],data=df7.loan_amnt, width=0.5,palette=\"colorblind\").set(xlabel='loan_amnt')\n",
    "sns.boxplot(ax=axes[1],data=df7.int_rate, width=0.5,palette=\"colorblind\").set(xlabel='int_rate')\n",
    "sns.boxplot(ax=axes[2],data=df7.dti, width=0.5,palette=\"colorblind\").set(xlabel='dti')"
   ]
  },
  {
   "cell_type": "markdown",
   "metadata": {},
   "source": [
    "From the boxplots, I detected that the variables 'loan_amnt', 'int_rate','installment' have outliers."
   ]
  },
  {
   "cell_type": "code",
   "execution_count": 458,
   "metadata": {},
   "outputs": [],
   "source": [
    "#Define a function removing outliers\n",
    "def remove_outlier(df_in, col_name):\n",
    "    q1 = df_in[col_name].quantile(0.25)\n",
    "    q3 = df_in[col_name].quantile(0.75)\n",
    "    iqr = q3-q1 #Interquartile range\n",
    "    fence_low  = q1-1.5*iqr\n",
    "    fence_high = q3+1.5*iqr\n",
    "    df_out = df_in.loc[(df_in[col_name] > fence_low) & (df_in[col_name] < fence_high)]\n",
    "    return df_out"
   ]
  },
  {
   "cell_type": "code",
   "execution_count": 459,
   "metadata": {},
   "outputs": [],
   "source": [
    "# Remove outliers\n",
    "df8=remove_outlier(df7,'loan_amnt') \n",
    "df8=remove_outlier(df7,'int_rate')\n"
   ]
  },
  {
   "cell_type": "markdown",
   "metadata": {},
   "source": [
    "Data analysis"
   ]
  },
  {
   "cell_type": "markdown",
   "metadata": {},
   "source": [
    "1. For each applicant, the presure to repay the loan is not only linked with his applied loan amount, but also with terms, interest rate and annual income. Thus, I create a variable - iti is a business-driven metric that stands for installment to income ratio in percentage. It follows the equation: iti= 100*(loan_amnt/term*(1+int_rate/12)/(annual_inc/12))\n",
    "\n",
    "iti is a continuous variable, we will perform binning and then conduct univariate analysis. \n",
    "\n",
    "\n"
   ]
  },
  {
   "cell_type": "code",
   "execution_count": 460,
   "metadata": {},
   "outputs": [
    {
     "name": "stderr",
     "output_type": "stream",
     "text": [
      "<ipython-input-460-3657fb0142de>:1: SettingWithCopyWarning: \n",
      "A value is trying to be set on a copy of a slice from a DataFrame.\n",
      "Try using .loc[row_indexer,col_indexer] = value instead\n",
      "\n",
      "See the caveats in the documentation: https://pandas.pydata.org/pandas-docs/stable/user_guide/indexing.html#returning-a-view-versus-a-copy\n",
      "  df8['iti']=100*(df8['loan_amnt']/df8['term']*(1+df8['int_rate']/12)/(df8['annual_inc']/12)) #Add a column that Calculates iti in percentage\n"
     ]
    }
   ],
   "source": [
    "df8['iti']=100*(df8['loan_amnt']/df8['term']*(1+df8['int_rate']/12)/(df8['annual_inc']/12)) #Add a column that Calculates iti in percentage"
   ]
  },
  {
   "cell_type": "code",
   "execution_count": 461,
   "metadata": {},
   "outputs": [
    {
     "data": {
      "text/plain": [
       "Text(0.5, 1.0, 'Default rate by installment to income')"
      ]
     },
     "execution_count": 461,
     "metadata": {},
     "output_type": "execute_result"
    },
    {
     "data": {
      "image/png": "[encoded data removed]",
      "text/plain": [
       "<Figure size 432x288 with 1 Axes>"
      ]
     },
     "metadata": {
      "needs_background": "light"
     },
     "output_type": "display_data"
    }
   ],
   "source": [
    "bins = pd.cut(df8['iti'], [0,10,20,30,40,50])   # Binning \n",
    "temp=df8.groupby(bins)['loan_status'].mean()  #Calculate default rate after groupby bins of iti\n",
    "ax=temp.plot.bar()                          #BarPlot\n",
    "ax.set_ylabel(\"Default rate\")               #Set labels\n",
    "ax.set_title('Default rate by installment to income')         #set title"
   ]
  },
  {
   "cell_type": "markdown",
   "metadata": {},
   "source": [
    "Insight:\n",
    "- Default rate generally increases with the increased value of iti, which suggests that the increased pressure of loan installment relative to income are associated with the increased likelihood of default.\n"
   ]
  },
  {
   "cell_type": "markdown",
   "metadata": {},
   "source": [
    "Recommendations:\n",
    "- The company should set priority and approve loans with low installment to income ratio first. \n",
    "- The company should try to lower installment to income when approving loans, via either lowering funded loan amount or extend loan term from 36 to 60 months. \n"
   ]
  },
  {
   "cell_type": "markdown",
   "metadata": {},
   "source": [
    "2. Bivariate analysis on the variables 'grade' and 'sub_grade' with default rate. I noticed that the first letter in 'sub_grade' repeats the value in 'grade', thus I will clean the variable 'sub_grade' first. "
   ]
  },
  {
   "cell_type": "code",
   "execution_count": 462,
   "metadata": {},
   "outputs": [
    {
     "name": "stderr",
     "output_type": "stream",
     "text": [
      "C:\\Python\\lib\\site-packages\\pandas\\core\\indexing.py:1773: SettingWithCopyWarning: \n",
      "A value is trying to be set on a copy of a slice from a DataFrame.\n",
      "Try using .loc[row_indexer,col_indexer] = value instead\n",
      "\n",
      "See the caveats in the documentation: https://pandas.pydata.org/pandas-docs/stable/user_guide/indexing.html#returning-a-view-versus-a-copy\n",
      "  self._setitem_single_column(ilocs[0], value, pi)\n"
     ]
    }
   ],
   "source": [
    "#Drop the first letter in sub_grade\n",
    "df8.loc[:,'sub_grade']=df8['sub_grade'].apply(lambda x: str(x)[1])"
   ]
  },
  {
   "cell_type": "code",
   "execution_count": 463,
   "metadata": {},
   "outputs": [
    {
     "data": {
      "text/plain": [
       "Text(0.5, 1.0, 'Default rate by grades and subgrades')"
      ]
     },
     "execution_count": 463,
     "metadata": {},
     "output_type": "execute_result"
    },
    {
     "data": {
      "image/png": "[encoded data removed]",
      "text/plain": [
       "<Figure size 432x288 with 1 Axes>"
      ]
     },
     "metadata": {
      "needs_background": "light"
     },
     "output_type": "display_data"
    }
   ],
   "source": [
    "#Caulculate default rate grouping by grade first and sub_grade second\n",
    "temp0=df8.groupby(['grade','sub_grade'])['loan_status'].mean().unstack('sub_grade')\n",
    "#Plot stacked barchart\n",
    "ax0=temp0.plot(kind='bar', stacked=True)\n",
    "ax0.set_ylabel(\"Default rate\")               #Set labels\n",
    "ax0.set_title('Default rate by grades and subgrades')         #set title"
   ]
  },
  {
   "cell_type": "markdown",
   "metadata": {},
   "source": [
    "Insights:\n",
    "- With grade becoming lower(A to G), default rate generally becomes higher\n",
    "- In each grade, with subgrade becoming lower(1 to 5), default rate generally becomes higher\n"
   ]
  },
  {
   "cell_type": "markdown",
   "metadata": {},
   "source": [
    "Recommendations:\n",
    "- The company should prioritize loaner with higher grade. (Specific priority: A-B-C-D-E-G-F)\n",
    "- For applicants within the same grade, the company should prioritize loaner with higher subgrade.(Specific priority: 1-2-3-4-5)\n"
   ]
  },
  {
   "cell_type": "markdown",
   "metadata": {},
   "source": [
    "3. Univariate analysis on continuous variables after binning\n"
   ]
  },
  {
   "cell_type": "code",
   "execution_count": 464,
   "metadata": {},
   "outputs": [
    {
     "data": {
      "text/plain": [
       "Text(0.5, 1.0, 'Default rate by employment length')"
      ]
     },
     "execution_count": 464,
     "metadata": {},
     "output_type": "execute_result"
    },
    {
     "data": {
      "image/png": "[encoded data removed]",
      "text/plain": [
       "<Figure size 432x288 with 1 Axes>"
      ]
     },
     "metadata": {
      "needs_background": "light"
     },
     "output_type": "display_data"
    }
   ],
   "source": [
    "# For the variable emp_length\n",
    "bins = pd.cut(df8['emp_length'], [0,2,4,6,8,10])   # Binning \n",
    "temp1=df8.groupby(bins)['loan_status'].mean() #Caulculate default rate by different employed months\n",
    "ax1=temp1.plot.bar()                          #BarPlot\n",
    "ax1.set_ylabel(\"Default rate\")               #Set labels\n",
    "ax1.set_title('Default rate by employment length')         #set title\n"
   ]
  },
  {
   "cell_type": "markdown",
   "metadata": {},
   "source": [
    "Insight:\n",
    "- When the value of emp_length becomes larger, the default rate becomes higher accordingly"
   ]
  },
  {
   "cell_type": "markdown",
   "metadata": {},
   "source": [
    "Recommendation:\n",
    "- The company should prioritize when approving loans with applicants that have been working less years."
   ]
  },
  {
   "cell_type": "code",
   "execution_count": 465,
   "metadata": {},
   "outputs": [
    {
     "data": {
      "text/plain": [
       "Text(0.5, 1.0, 'Default rate by dti')"
      ]
     },
     "execution_count": 465,
     "metadata": {},
     "output_type": "execute_result"
    },
    {
     "data": {
      "image/png": "[encoded data removed]",
      "text/plain": [
       "<Figure size 432x288 with 1 Axes>"
      ]
     },
     "metadata": {
      "needs_background": "light"
     },
     "output_type": "display_data"
    }
   ],
   "source": [
    "#For the variable dti\n",
    "bins = pd.cut(df8['dti'], [0,5,10,15,20,25,30])   # Binning \n",
    "temp2=df8.groupby(bins)['loan_status'].mean() #Caulculate default rate by different dti\n",
    "ax2=temp2.plot.bar()                          #BarPlot\n",
    "ax2.set_ylabel(\"Default rate\")               #Set labels\n",
    "ax2.set_title('Default rate by dti')         #set title\n"
   ]
  },
  {
   "cell_type": "markdown",
   "metadata": {},
   "source": [
    "Insight:\n",
    "- Default rate increases with higher value of dti\n",
    "- The sudden drop of default rate in (25,30] may due to significantly fewer observations compared to other groups "
   ]
  },
  {
   "cell_type": "markdown",
   "metadata": {},
   "source": [
    "Recommendation:\n",
    "-  When approving loans, the company should prioritize applicants with relatively lower dti."
   ]
  },
  {
   "cell_type": "markdown",
   "metadata": {},
   "source": [
    "4 Univariate analysis on categorical varibles"
   ]
  },
  {
   "cell_type": "code",
   "execution_count": 466,
   "metadata": {
    "scrolled": true
   },
   "outputs": [
    {
     "data": {
      "text/plain": [
       "Text(0.5, 1.0, 'Default rate for different issue months')"
      ]
     },
     "execution_count": 466,
     "metadata": {},
     "output_type": "execute_result"
    },
    {
     "data": {
      "image/png": "[encoded data removed]",
      "text/plain": [
       "<Figure size 432x288 with 1 Axes>"
      ]
     },
     "metadata": {
      "needs_background": "light"
     },
     "output_type": "display_data"
    }
   ],
   "source": [
    "#For the variable 'issue_d'\n",
    "temp3=df8.groupby('issue_d')['loan_status'].mean().sort_values() #Caulculate default rate by different issue months\n",
    "ax3=temp3.plot.bar()                          #BarPlot\n",
    "ax3.set_ylabel(\"Default rate\")               #Set labels\n",
    "ax3.set_title('Default rate for different issue months')         #set title"
   ]
  },
  {
   "cell_type": "markdown",
   "metadata": {},
   "source": [
    "Insights:\n",
    "- The variable 'issue_d' should be a driving variable behind loan default since the default rate varies with different issue months.\n",
    "- loan applicants will have a relative higher default rate when the issue date is in May and later than September.\n",
    "\n",
    "\n",
    "\n"
   ]
  },
  {
   "cell_type": "markdown",
   "metadata": {},
   "source": [
    "Recommendations:\n",
    "- The company can consider issue less times of loan/ decrease loan_amount when it is in May or reaching the 4th quarter of the year (later than September)\n",
    "- The company can prioritize applicants based on Month orders presented in the chart."
   ]
  },
  {
   "cell_type": "code",
   "execution_count": 467,
   "metadata": {},
   "outputs": [
    {
     "data": {
      "text/plain": [
       "Text(0.5, 1.0, 'Default rate by home ownership')"
      ]
     },
     "execution_count": 467,
     "metadata": {},
     "output_type": "execute_result"
    },
    {
     "data": {
      "image/png": "[encoded data removed]",
      "text/plain": [
       "<Figure size 432x288 with 1 Axes>"
      ]
     },
     "metadata": {
      "needs_background": "light"
     },
     "output_type": "display_data"
    }
   ],
   "source": [
    "#For the variable home_ownership \n",
    "temp4=df8.groupby('home_ownership')['loan_status'].mean().sort_values() #Caulculate default rate for different types of home_ownership\n",
    "ax4=temp4.plot.bar()                          #BarPlot\n",
    "ax4.set_ylabel(\"Default rate\")\n",
    "ax4.set_title('Default rate by home ownership')"
   ]
  },
  {
   "cell_type": "markdown",
   "metadata": {},
   "source": [
    "Insights:\n",
    "- Default rate varies with different types of home ownership.\n",
    "- The type 'OTHER' shows the highest default rate"
   ]
  },
  {
   "cell_type": "markdown",
   "metadata": {},
   "source": [
    "Recommendations:\n",
    "- Prioritize applicants based on type orders presented in the chart.\n",
    "- For applicants with 'OTHER' type home ownership, check values of other driving variables  "
   ]
  },
  {
   "cell_type": "code",
   "execution_count": 468,
   "metadata": {},
   "outputs": [
    {
     "data": {
      "text/plain": [
       "Text(0.5, 1.0, 'Default rate by verification status')"
      ]
     },
     "execution_count": 468,
     "metadata": {},
     "output_type": "execute_result"
    },
    {
     "data": {
      "image/png": "[encoded data removed]",
      "text/plain": [
       "<Figure size 432x288 with 1 Axes>"
      ]
     },
     "metadata": {
      "needs_background": "light"
     },
     "output_type": "display_data"
    }
   ],
   "source": [
    "#For the variable verification_status:\n",
    "temp5=df8.groupby('verification_status')['loan_status'].mean().sort_values() #Caulculate default rate for different types of verification status\n",
    "ax5=temp5.plot.bar()                          #BarPlot\n",
    "ax5.set_ylabel(\"Default rate\")\n",
    "ax5.set_title('Default rate by verification status')\n"
   ]
  },
  {
   "cell_type": "markdown",
   "metadata": {},
   "source": [
    "Insights:\n",
    "- Default rate varies with different types of verification status\n",
    "- Not verified scores lower default rate than source verified and verified. "
   ]
  },
  {
   "cell_type": "markdown",
   "metadata": {},
   "source": [
    "Recommendations:\n",
    "- Overhaul the current verificaiton process. Conduct more thorough check.\n",
    "- For verified applicants, refrain from approving large amount of loan or short loan term.  "
   ]
  },
  {
   "cell_type": "code",
   "execution_count": 469,
   "metadata": {},
   "outputs": [
    {
     "data": {
      "text/plain": [
       "Text(0.5, 1.0, 'Default rate by purpose')"
      ]
     },
     "execution_count": 469,
     "metadata": {},
     "output_type": "execute_result"
    },
    {
     "data": {
      "image/png": "[encoded data removed]",
      "text/plain": [
       "<Figure size 432x288 with 1 Axes>"
      ]
     },
     "metadata": {
      "needs_background": "light"
     },
     "output_type": "display_data"
    }
   ],
   "source": [
    "#For the variable purpose\n",
    "temp6=df8.groupby('purpose')['loan_status'].mean().sort_values() #Caulculate default rate for different types of purpose\n",
    "ax6=temp6.plot.bar()                          #BarPlot\n",
    "ax6.set_ylabel(\"Default rate\")\n",
    "ax6.set_title('Default rate by purpose')\n"
   ]
  },
  {
   "cell_type": "markdown",
   "metadata": {},
   "source": [
    "Insight:\n",
    "-  Default rate varies with different types of purpose. \n",
    "- Loaning  for starting small business has relatively high default rate compared to others"
   ]
  },
  {
   "cell_type": "markdown",
   "metadata": {},
   "source": [
    "Recommendation:\n",
    "- For applicants borrowing money to start small businesses, the company should be cautious when approving. It can also consider approve lower amount of loan, lower interest rate, and shorten loan terms  "
   ]
  },
  {
   "cell_type": "code",
   "execution_count": 470,
   "metadata": {
    "scrolled": true
   },
   "outputs": [
    {
     "data": {
      "text/plain": [
       "Text(0.5, 1.0, 'Default rate by state')"
      ]
     },
     "execution_count": 470,
     "metadata": {},
     "output_type": "execute_result"
    },
    {
     "data": {
      "image/png": "[encoded data removed]",
      "text/plain": [
       "<Figure size 648x360 with 1 Axes>"
      ]
     },
     "metadata": {
      "needs_background": "light"
     },
     "output_type": "display_data"
    }
   ],
   "source": [
    "#For the variable addr_state\n",
    "temp7=df8.groupby('addr_state')['loan_status'].mean().sort_values() #Caulculate default rate for different types of state\n",
    "ax7=temp7.plot.bar(figsize=(9,5))                          #BarPlot\n",
    "ax7.set_ylabel(\"Default rate\")\n",
    "ax7.set_title('Default rate by state')\n"
   ]
  },
  {
   "cell_type": "markdown",
   "metadata": {},
   "source": [
    "Insight:\n",
    "- Applicants from Nebraska have exceptionally high default rate (above 0.5)"
   ]
  },
  {
   "cell_type": "markdown",
   "metadata": {},
   "source": [
    "Recommendation:\n",
    "- The company had better reject applicants from the state Nebraska"
   ]
  },
  {
   "cell_type": "code",
   "execution_count": 471,
   "metadata": {},
   "outputs": [
    {
     "data": {
      "text/plain": [
       "Text(0.5, 1.0, 'Default rate by public bankruptcy record')"
      ]
     },
     "execution_count": 471,
     "metadata": {},
     "output_type": "execute_result"
    },
    {
     "data": {
      "image/png": "[encoded data removed]",
      "text/plain": [
       "<Figure size 432x288 with 1 Axes>"
      ]
     },
     "metadata": {
      "needs_background": "light"
     },
     "output_type": "display_data"
    }
   ],
   "source": [
    "#For the variable pub_rec_bankruptcies\n",
    "temp8=df8.groupby('pub_rec_bankruptcies')['loan_status'].mean().sort_values() #Caulculate default rate for different types of public bankruptcy record\n",
    "ax8=temp8.plot.bar()                          #BarPlot\n",
    "ax8.set_ylabel(\"Default rate\")\n",
    "ax8.set_title('Default rate by public bankruptcy record')\n",
    "\n"
   ]
  },
  {
   "cell_type": "markdown",
   "metadata": {},
   "source": [
    "Insight:\n",
    "- Default rate increases with the increased value of public bankruptcy record"
   ]
  },
  {
   "cell_type": "markdown",
   "metadata": {},
   "source": [
    "Recommendation:\n",
    "- The company should prioritize applicants without public bankrupticy record. \n",
    "- For applicants with public bankrupticy record, the company should consider rejecting , increaseing interest rate, lowering approved loan amount or shortening loan term."
   ]
  }
 ],
 "metadata": {
  "kernelspec": {
   "display_name": "Python 3",
   "language": "python",
   "name": "python3"
  },
  "language_info": {
   "codemirror_mode": {
    "name": "ipython",
    "version": 3
   },
   "file_extension": ".py",
   "mimetype": "text/x-python",
   "name": "python",
   "nbconvert_exporter": "python",
   "pygments_lexer": "ipython3",
   "version": "3.8.3"
  }
 },
 "nbformat": 4,
 "nbformat_minor": 4
}
